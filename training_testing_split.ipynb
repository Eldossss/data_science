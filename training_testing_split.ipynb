{
 "cells": [
  {
   "cell_type": "markdown",
   "id": "f25636bd-b85b-42b2-ab49-72361c12c1df",
   "metadata": {},
   "source": [
    "## TRAINING AND TESTING SPLIT FOR MODEL"
   ]
  },
  {
   "cell_type": "markdown",
   "id": "6aa3de8c-1dd1-4c42-b98c-54cf69e54513",
   "metadata": {},
   "source": [
    "import relevant libraries"
   ]
  },
  {
   "cell_type": "code",
   "execution_count": 3,
   "id": "e03b604a-56ba-4feb-a633-07844a26b291",
   "metadata": {},
   "outputs": [],
   "source": [
    "import numpy as np\n",
    "from sklearn.model_selection import train_test_split"
   ]
  },
  {
   "cell_type": "markdown",
   "id": "4d3c47ba-a22c-4c3b-8135-6fe1b3e047b2",
   "metadata": {},
   "source": [
    "GENERATE SOME DATA"
   ]
  },
  {
   "cell_type": "code",
   "execution_count": 4,
   "id": "6e957562-2860-4b9b-a6d9-14adb641313c",
   "metadata": {},
   "outputs": [],
   "source": [
    "a = np.arange(1,101)"
   ]
  },
  {
   "cell_type": "code",
   "execution_count": 5,
   "id": "797fda66-d06d-41de-83cb-48a88b223f31",
   "metadata": {},
   "outputs": [
    {
     "data": {
      "text/plain": [
       "array([  1,   2,   3,   4,   5,   6,   7,   8,   9,  10,  11,  12,  13,\n",
       "        14,  15,  16,  17,  18,  19,  20,  21,  22,  23,  24,  25,  26,\n",
       "        27,  28,  29,  30,  31,  32,  33,  34,  35,  36,  37,  38,  39,\n",
       "        40,  41,  42,  43,  44,  45,  46,  47,  48,  49,  50,  51,  52,\n",
       "        53,  54,  55,  56,  57,  58,  59,  60,  61,  62,  63,  64,  65,\n",
       "        66,  67,  68,  69,  70,  71,  72,  73,  74,  75,  76,  77,  78,\n",
       "        79,  80,  81,  82,  83,  84,  85,  86,  87,  88,  89,  90,  91,\n",
       "        92,  93,  94,  95,  96,  97,  98,  99, 100])"
      ]
     },
     "execution_count": 5,
     "metadata": {},
     "output_type": "execute_result"
    }
   ],
   "source": [
    "a"
   ]
  },
  {
   "cell_type": "code",
   "execution_count": 6,
   "id": "f5ce0b84-b4be-4876-9c80-a52825a1cced",
   "metadata": {},
   "outputs": [],
   "source": [
    "b = np.arange(501,601)"
   ]
  },
  {
   "cell_type": "code",
   "execution_count": 7,
   "id": "dd39f375-fcb2-4253-8837-a7d9aa172105",
   "metadata": {},
   "outputs": [
    {
     "data": {
      "text/plain": [
       "array([501, 502, 503, 504, 505, 506, 507, 508, 509, 510, 511, 512, 513,\n",
       "       514, 515, 516, 517, 518, 519, 520, 521, 522, 523, 524, 525, 526,\n",
       "       527, 528, 529, 530, 531, 532, 533, 534, 535, 536, 537, 538, 539,\n",
       "       540, 541, 542, 543, 544, 545, 546, 547, 548, 549, 550, 551, 552,\n",
       "       553, 554, 555, 556, 557, 558, 559, 560, 561, 562, 563, 564, 565,\n",
       "       566, 567, 568, 569, 570, 571, 572, 573, 574, 575, 576, 577, 578,\n",
       "       579, 580, 581, 582, 583, 584, 585, 586, 587, 588, 589, 590, 591,\n",
       "       592, 593, 594, 595, 596, 597, 598, 599, 600])"
      ]
     },
     "execution_count": 7,
     "metadata": {},
     "output_type": "execute_result"
    }
   ],
   "source": [
    "b"
   ]
  },
  {
   "cell_type": "markdown",
   "id": "d4d9b156-608c-43c1-9bee-0bc56efba0cb",
   "metadata": {},
   "source": [
    "## SPLIT THE DATA"
   ]
  },
  {
   "cell_type": "code",
   "execution_count": 8,
   "id": "8c3682c2-8bd8-495c-a461-e8804881aeef",
   "metadata": {},
   "outputs": [
    {
     "data": {
      "text/plain": [
       "[array([  3,  80,  47,  23,  66,  44,   6,  30,  27,   8,  15,  89,  26,\n",
       "         38,  55,  75,  49,  95,  45,  37,  56,  39,  50,  96,  68,  14,\n",
       "         64,   7,  94,  54,  91,  93,  58,  34,  92,  11,  77,  31,  74,\n",
       "         13,   1,  83,  79,  84,  72,  51,  63,  73, 100,  20,  10,  21,\n",
       "         22,  85,  78,  65,  36,  97,   9,  32,  28,  69,  48,  57,  99,\n",
       "         59,  98,  90,  29,  82,  18,  41,  46,  19,  81]),\n",
       " array([17, 76, 25, 33, 12, 86,  4, 88, 42, 24,  5, 71, 67, 16, 60, 35, 62,\n",
       "         2, 40, 52, 87, 43, 70, 53, 61])]"
      ]
     },
     "execution_count": 8,
     "metadata": {},
     "output_type": "execute_result"
    }
   ],
   "source": [
    "train_test_split(a)"
   ]
  },
  {
   "cell_type": "code",
   "execution_count": 22,
   "id": "f0973def-b0e3-47fe-a35b-65ba09845e7c",
   "metadata": {},
   "outputs": [],
   "source": [
    "a_train , a_test, b_train , b_test = train_test_split(a,b,test_size = 0.2,shuffle = False) # also we can add random_state = 42 or any number "
   ]
  },
  {
   "cell_type": "code",
   "execution_count": 23,
   "id": "638a09b8-84b2-49b9-ad7f-4a775221ef15",
   "metadata": {},
   "outputs": [
    {
     "data": {
      "text/plain": [
       "(array([ 1,  2,  3,  4,  5,  6,  7,  8,  9, 10, 11, 12, 13, 14, 15, 16, 17,\n",
       "        18, 19, 20, 21, 22, 23, 24, 25, 26, 27, 28, 29, 30, 31, 32, 33, 34,\n",
       "        35, 36, 37, 38, 39, 40, 41, 42, 43, 44, 45, 46, 47, 48, 49, 50, 51,\n",
       "        52, 53, 54, 55, 56, 57, 58, 59, 60, 61, 62, 63, 64, 65, 66, 67, 68,\n",
       "        69, 70, 71, 72, 73, 74, 75, 76, 77, 78, 79, 80]),\n",
       " array([ 81,  82,  83,  84,  85,  86,  87,  88,  89,  90,  91,  92,  93,\n",
       "         94,  95,  96,  97,  98,  99, 100]))"
      ]
     },
     "execution_count": 23,
     "metadata": {},
     "output_type": "execute_result"
    }
   ],
   "source": [
    "a_train , a_test"
   ]
  },
  {
   "cell_type": "code",
   "execution_count": 24,
   "id": "6d74f6e6-c6e3-4594-90d2-c6c88f360fc7",
   "metadata": {},
   "outputs": [
    {
     "data": {
      "text/plain": [
       "(80,)"
      ]
     },
     "execution_count": 24,
     "metadata": {},
     "output_type": "execute_result"
    }
   ],
   "source": [
    "a_train.shape"
   ]
  },
  {
   "cell_type": "code",
   "execution_count": 25,
   "id": "6e5bfa07-1034-478d-973e-95f6f85f767c",
   "metadata": {},
   "outputs": [
    {
     "data": {
      "text/plain": [
       "(20,)"
      ]
     },
     "execution_count": 25,
     "metadata": {},
     "output_type": "execute_result"
    }
   ],
   "source": [
    "a_test.shape"
   ]
  },
  {
   "cell_type": "code",
   "execution_count": 12,
   "id": "99c8ded1-09f5-45c7-a129-8da7589b4b10",
   "metadata": {},
   "outputs": [],
   "source": [
    "# we can notice that our data splitted into 75 % and 25 %  , 75% is training data , and 25% is testing data "
   ]
  },
  {
   "cell_type": "code",
   "execution_count": 26,
   "id": "1cd286b4-78fa-40ea-b4a0-30f2a2ae7066",
   "metadata": {},
   "outputs": [
    {
     "data": {
      "text/plain": [
       "array([501, 502, 503, 504, 505, 506, 507, 508, 509, 510, 511, 512, 513,\n",
       "       514, 515, 516, 517, 518, 519, 520, 521, 522, 523, 524, 525, 526,\n",
       "       527, 528, 529, 530, 531, 532, 533, 534, 535, 536, 537, 538, 539,\n",
       "       540, 541, 542, 543, 544, 545, 546, 547, 548, 549, 550, 551, 552,\n",
       "       553, 554, 555, 556, 557, 558, 559, 560, 561, 562, 563, 564, 565,\n",
       "       566, 567, 568, 569, 570, 571, 572, 573, 574, 575, 576, 577, 578,\n",
       "       579, 580])"
      ]
     },
     "execution_count": 26,
     "metadata": {},
     "output_type": "execute_result"
    }
   ],
   "source": [
    "b_train"
   ]
  },
  {
   "cell_type": "code",
   "execution_count": 27,
   "id": "61028bef-4a6f-4c7e-8130-9be202adce50",
   "metadata": {},
   "outputs": [
    {
     "data": {
      "text/plain": [
       "array([581, 582, 583, 584, 585, 586, 587, 588, 589, 590, 591, 592, 593,\n",
       "       594, 595, 596, 597, 598, 599, 600])"
      ]
     },
     "execution_count": 27,
     "metadata": {},
     "output_type": "execute_result"
    }
   ],
   "source": [
    "b_test\n"
   ]
  },
  {
   "cell_type": "code",
   "execution_count": null,
   "id": "aac907af-2fb0-4ea1-8bdc-1016fe0de8ea",
   "metadata": {},
   "outputs": [],
   "source": []
  }
 ],
 "metadata": {
  "kernelspec": {
   "display_name": "Python 3 (ipykernel)",
   "language": "python",
   "name": "python3"
  },
  "language_info": {
   "codemirror_mode": {
    "name": "ipython",
    "version": 3
   },
   "file_extension": ".py",
   "mimetype": "text/x-python",
   "name": "python",
   "nbconvert_exporter": "python",
   "pygments_lexer": "ipython3",
   "version": "3.13.5"
  }
 },
 "nbformat": 4,
 "nbformat_minor": 5
}
